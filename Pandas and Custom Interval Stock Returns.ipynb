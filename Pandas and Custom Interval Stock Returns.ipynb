{
 "cells": [
  {
   "cell_type": "code",
   "execution_count": 1,
   "metadata": {},
   "outputs": [],
   "source": [
    "import yfinance as yf\n",
    "import pandas as pd"
   ]
  },
  {
   "cell_type": "code",
   "execution_count": 2,
   "metadata": {},
   "outputs": [
    {
     "name": "stdout",
     "output_type": "stream",
     "text": [
      "[*********************100%***********************]  1 of 1 completed\n"
     ]
    }
   ],
   "source": [
    "df = yf.download(\"BTC-USD\", period=\"60D\", interval=\"5m\")"
   ]
  },
  {
   "cell_type": "code",
   "execution_count": 3,
   "metadata": {},
   "outputs": [],
   "source": [
    "df = df.drop(\"Volume\", axis=1)\n",
    "df = df.tz_localize(None)"
   ]
  },
  {
   "cell_type": "code",
   "execution_count": 4,
   "metadata": {},
   "outputs": [
    {
     "data": {
      "text/html": [
       "<div>\n",
       "<style scoped>\n",
       "    .dataframe tbody tr th:only-of-type {\n",
       "        vertical-align: middle;\n",
       "    }\n",
       "\n",
       "    .dataframe tbody tr th {\n",
       "        vertical-align: top;\n",
       "    }\n",
       "\n",
       "    .dataframe thead th {\n",
       "        text-align: right;\n",
       "    }\n",
       "</style>\n",
       "<table border=\"1\" class=\"dataframe\">\n",
       "  <thead>\n",
       "    <tr style=\"text-align: right;\">\n",
       "      <th></th>\n",
       "      <th>Open</th>\n",
       "      <th>High</th>\n",
       "      <th>Low</th>\n",
       "      <th>Close</th>\n",
       "      <th>Adj Close</th>\n",
       "    </tr>\n",
       "    <tr>\n",
       "      <th>Datetime</th>\n",
       "      <th></th>\n",
       "      <th></th>\n",
       "      <th></th>\n",
       "      <th></th>\n",
       "      <th></th>\n",
       "    </tr>\n",
       "  </thead>\n",
       "  <tbody>\n",
       "    <tr>\n",
       "      <th>2022-05-01 00:00:00</th>\n",
       "      <td>37704.460938</td>\n",
       "      <td>37715.718750</td>\n",
       "      <td>37704.460938</td>\n",
       "      <td>37715.718750</td>\n",
       "      <td>37715.718750</td>\n",
       "    </tr>\n",
       "    <tr>\n",
       "      <th>2022-05-01 00:05:00</th>\n",
       "      <td>37730.101562</td>\n",
       "      <td>37756.003906</td>\n",
       "      <td>37730.101562</td>\n",
       "      <td>37756.003906</td>\n",
       "      <td>37756.003906</td>\n",
       "    </tr>\n",
       "    <tr>\n",
       "      <th>2022-05-01 00:10:00</th>\n",
       "      <td>37767.484375</td>\n",
       "      <td>37767.484375</td>\n",
       "      <td>37739.855469</td>\n",
       "      <td>37739.855469</td>\n",
       "      <td>37739.855469</td>\n",
       "    </tr>\n",
       "    <tr>\n",
       "      <th>2022-05-01 00:15:00</th>\n",
       "      <td>37734.929688</td>\n",
       "      <td>37746.304688</td>\n",
       "      <td>37734.929688</td>\n",
       "      <td>37746.304688</td>\n",
       "      <td>37746.304688</td>\n",
       "    </tr>\n",
       "    <tr>\n",
       "      <th>2022-05-01 00:20:00</th>\n",
       "      <td>37737.562500</td>\n",
       "      <td>37737.562500</td>\n",
       "      <td>37714.457031</td>\n",
       "      <td>37714.457031</td>\n",
       "      <td>37714.457031</td>\n",
       "    </tr>\n",
       "    <tr>\n",
       "      <th>...</th>\n",
       "      <td>...</td>\n",
       "      <td>...</td>\n",
       "      <td>...</td>\n",
       "      <td>...</td>\n",
       "      <td>...</td>\n",
       "    </tr>\n",
       "    <tr>\n",
       "      <th>2022-06-29 17:40:00</th>\n",
       "      <td>19973.552734</td>\n",
       "      <td>19990.023438</td>\n",
       "      <td>19973.552734</td>\n",
       "      <td>19990.023438</td>\n",
       "      <td>19990.023438</td>\n",
       "    </tr>\n",
       "    <tr>\n",
       "      <th>2022-06-29 17:45:00</th>\n",
       "      <td>20000.640625</td>\n",
       "      <td>20013.345703</td>\n",
       "      <td>20000.640625</td>\n",
       "      <td>20013.345703</td>\n",
       "      <td>20013.345703</td>\n",
       "    </tr>\n",
       "    <tr>\n",
       "      <th>2022-06-29 17:50:00</th>\n",
       "      <td>20007.662109</td>\n",
       "      <td>20016.654297</td>\n",
       "      <td>20007.662109</td>\n",
       "      <td>20016.654297</td>\n",
       "      <td>20016.654297</td>\n",
       "    </tr>\n",
       "    <tr>\n",
       "      <th>2022-06-29 17:55:00</th>\n",
       "      <td>20027.154297</td>\n",
       "      <td>20031.142578</td>\n",
       "      <td>20027.154297</td>\n",
       "      <td>20031.142578</td>\n",
       "      <td>20031.142578</td>\n",
       "    </tr>\n",
       "    <tr>\n",
       "      <th>2022-06-29 18:00:00</th>\n",
       "      <td>20037.378906</td>\n",
       "      <td>20037.378906</td>\n",
       "      <td>20037.378906</td>\n",
       "      <td>20037.378906</td>\n",
       "      <td>20037.378906</td>\n",
       "    </tr>\n",
       "  </tbody>\n",
       "</table>\n",
       "<p>17196 rows × 5 columns</p>\n",
       "</div>"
      ],
      "text/plain": [
       "                             Open          High           Low         Close  \\\n",
       "Datetime                                                                      \n",
       "2022-05-01 00:00:00  37704.460938  37715.718750  37704.460938  37715.718750   \n",
       "2022-05-01 00:05:00  37730.101562  37756.003906  37730.101562  37756.003906   \n",
       "2022-05-01 00:10:00  37767.484375  37767.484375  37739.855469  37739.855469   \n",
       "2022-05-01 00:15:00  37734.929688  37746.304688  37734.929688  37746.304688   \n",
       "2022-05-01 00:20:00  37737.562500  37737.562500  37714.457031  37714.457031   \n",
       "...                           ...           ...           ...           ...   \n",
       "2022-06-29 17:40:00  19973.552734  19990.023438  19973.552734  19990.023438   \n",
       "2022-06-29 17:45:00  20000.640625  20013.345703  20000.640625  20013.345703   \n",
       "2022-06-29 17:50:00  20007.662109  20016.654297  20007.662109  20016.654297   \n",
       "2022-06-29 17:55:00  20027.154297  20031.142578  20027.154297  20031.142578   \n",
       "2022-06-29 18:00:00  20037.378906  20037.378906  20037.378906  20037.378906   \n",
       "\n",
       "                        Adj Close  \n",
       "Datetime                           \n",
       "2022-05-01 00:00:00  37715.718750  \n",
       "2022-05-01 00:05:00  37756.003906  \n",
       "2022-05-01 00:10:00  37739.855469  \n",
       "2022-05-01 00:15:00  37746.304688  \n",
       "2022-05-01 00:20:00  37714.457031  \n",
       "...                           ...  \n",
       "2022-06-29 17:40:00  19990.023438  \n",
       "2022-06-29 17:45:00  20013.345703  \n",
       "2022-06-29 17:50:00  20016.654297  \n",
       "2022-06-29 17:55:00  20031.142578  \n",
       "2022-06-29 18:00:00  20037.378906  \n",
       "\n",
       "[17196 rows x 5 columns]"
      ]
     },
     "execution_count": 4,
     "metadata": {},
     "output_type": "execute_result"
    }
   ],
   "source": [
    "df"
   ]
  },
  {
   "cell_type": "code",
   "execution_count": 5,
   "metadata": {},
   "outputs": [],
   "source": [
    "df_6h = df.resample(\"6H\", origin=df.index[-1]).last()\n",
    "df_6h = (df_6h.iloc[-1,:].div(df_6h)-1).iloc[:-1,:] * 100"
   ]
  },
  {
   "cell_type": "code",
   "execution_count": 6,
   "metadata": {},
   "outputs": [],
   "source": [
    "df_6h = df_6h.set_index(df_6h.index[-1] - df_6h.index)  "
   ]
  },
  {
   "cell_type": "code",
   "execution_count": 7,
   "metadata": {},
   "outputs": [],
   "source": [
    "time_deltas = [\n",
    "    pd.Timedelta(days=30),\n",
    "    pd.Timedelta(days=7),\n",
    "    pd.Timedelta(days=3), \n",
    "    pd.Timedelta(hours=24), \n",
    "    pd.Timedelta(hours=12),    \n",
    "    pd.Timedelta(hours=6),\n",
    "]\n",
    "\n",
    "intervals = [df.index[-1]-td for td in time_deltas]\n",
    "intervals.append(df.index[-1])"
   ]
  },
  {
   "cell_type": "code",
   "execution_count": 8,
   "metadata": {},
   "outputs": [],
   "source": [
    "custom_interval_returns = (df.iloc[-1,:]/df.groupby(pd.cut(df.index, bins=intervals)).first()-1) *100"
   ]
  },
  {
   "cell_type": "code",
   "execution_count": 9,
   "metadata": {},
   "outputs": [],
   "source": [
    "custom_interval_returns.index = time_deltas"
   ]
  },
  {
   "cell_type": "code",
   "execution_count": 14,
   "metadata": {},
   "outputs": [
    {
     "data": {
      "text/plain": [
       "30 days 00:00:00    -34.72%\n",
       "7 days 00:00:00      -1.04%\n",
       "3 days 00:00:00      -5.64%\n",
       "1 days 00:00:00      -2.70%\n",
       "0 days 12:00:00      -0.53%\n",
       "0 days 06:00:00      -0.38%\n",
       "Name: Close, dtype: object"
      ]
     },
     "execution_count": 14,
     "metadata": {},
     "output_type": "execute_result"
    }
   ],
   "source": [
    "custom_interval_returns[\"Close\"].apply(lambda x: f\"{x:.2f}%\")"
   ]
  },
  {
   "cell_type": "code",
   "execution_count": 11,
   "metadata": {},
   "outputs": [
    {
     "data": {
      "text/plain": [
       "[Timestamp('2022-05-30 18:00:00'),\n",
       " Timestamp('2022-06-22 18:00:00'),\n",
       " Timestamp('2022-06-26 18:00:00'),\n",
       " Timestamp('2022-06-28 18:00:00'),\n",
       " Timestamp('2022-06-29 06:00:00'),\n",
       " Timestamp('2022-06-29 12:00:00'),\n",
       " Timestamp('2022-06-29 18:00:00')]"
      ]
     },
     "execution_count": 11,
     "metadata": {},
     "output_type": "execute_result"
    }
   ],
   "source": [
    "intervals"
   ]
  }
 ],
 "metadata": {
  "hide_input": false,
  "kernelspec": {
   "display_name": "Python 3 (ipykernel)",
   "language": "python",
   "name": "python3"
  },
  "language_info": {
   "codemirror_mode": {
    "name": "ipython",
    "version": 3
   },
   "file_extension": ".py",
   "mimetype": "text/x-python",
   "name": "python",
   "nbconvert_exporter": "python",
   "pygments_lexer": "ipython3",
   "version": "3.9.12"
  }
 },
 "nbformat": 4,
 "nbformat_minor": 4
}
