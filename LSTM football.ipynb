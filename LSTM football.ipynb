{
 "cells": [
  {
   "cell_type": "code",
   "execution_count": 1,
   "id": "e75eef06",
   "metadata": {},
   "outputs": [],
   "source": [
    "import pandas as pd\n",
    "import numpy as np\n",
    "from tensorflow import keras\n",
    "import matplotlib.pyplot as plt"
   ]
  },
  {
   "cell_type": "code",
   "execution_count": 2,
   "id": "5f7521ea",
   "metadata": {},
   "outputs": [],
   "source": [
    "df = pd.read_csv(\"unpivoted_football.csv\")\n",
    "df[\"goal_diff\"] = df[\"team1goal_count\"]-df[\"team2goal_count\"]"
   ]
  },
  {
   "cell_type": "code",
   "execution_count": 3,
   "id": "ae2457af",
   "metadata": {},
   "outputs": [
    {
     "data": {
      "text/plain": [
       "Index(['date_GMT', 'referee', 'Game Week', 'odds_ft_over25', 'stadium_name',\n",
       "       'team1name', 'team1ppg', 'team1goal_count', 'team1goal_count_half_time',\n",
       "       'team1goal_timings', 'team1corner_count', 'team1yellow_cards',\n",
       "       'team1red_cards', 'team1first_half_cards', 'team1second_half_cards',\n",
       "       'team1shots', 'team1shots_on_target', 'team1shots_off_target',\n",
       "       'team1fouls', 'team1possession', 'odds_ft_team1win', 'team2name',\n",
       "       'team2ppg', 'team2goal_count', 'team2goal_count_half_time',\n",
       "       'team2goal_timings', 'team2corner_count', 'team2yellow_cards',\n",
       "       'team2red_cards', 'team2first_half_cards', 'team2second_half_cards',\n",
       "       'team2shots', 'team2shots_on_target', 'team2shots_off_target',\n",
       "       'team2fouls', 'team2possession', 'odds_ft_team2win', 'game_id', 'ha',\n",
       "       'goal_diff'],\n",
       "      dtype='object')"
      ]
     },
     "execution_count": 3,
     "metadata": {},
     "output_type": "execute_result"
    }
   ],
   "source": [
    "df.columns"
   ]
  },
  {
   "cell_type": "code",
   "execution_count": 4,
   "id": "4dc785b4",
   "metadata": {},
   "outputs": [],
   "source": [
    "df[\"class\"] = np.where(df[\"goal_diff\"].gt(0), 1, np.where(df[\"goal_diff\"].eq(0), 0, 2))"
   ]
  },
  {
   "cell_type": "code",
   "execution_count": 5,
   "id": "210a0d95",
   "metadata": {},
   "outputs": [],
   "source": [
    "groups = df.loc[:,['team1name', 'team1goal_count', 'odds_ft_team1win', 'team1goal_count_half_time', \n",
    "                   'team2goal_count', 'team2goal_count_half_time', 'team1shots', \n",
    "                   'team1shots_on_target', 'class']].groupby('team1name')"
   ]
  },
  {
   "cell_type": "code",
   "execution_count": 6,
   "id": "58ea06de",
   "metadata": {},
   "outputs": [],
   "source": [
    "lag = 5\n",
    "\n",
    "\n",
    "def create_dataset(dataset, look_back=1):\n",
    "    dataX, dataY = [], []\n",
    "    for i in range(len(dataset)-look_back):\n",
    "        a = dataset.iloc[i:(i+look_back), :].values\n",
    "        dataX.append(a)\n",
    "        dataY.append(dataset.iloc[i + look_back, -1])\n",
    "    return np.array(dataX), np.array(dataY)\n",
    "\n",
    "X = []\n",
    "y = []\n",
    "odds = []\n",
    "\n",
    "for k, group in groups:\n",
    "    if len(group)>lag:\n",
    "        X_new, y_new = create_dataset(group.drop([\"team1name\"], axis=1), look_back=lag)\n",
    "        X.append(X_new)\n",
    "        y.append(y_new)"
   ]
  },
  {
   "cell_type": "code",
   "execution_count": 7,
   "id": "5d0eb78d",
   "metadata": {},
   "outputs": [],
   "source": [
    "X = np.concatenate(X, axis=0)\n",
    "y = np.concatenate(y, axis=0)"
   ]
  },
  {
   "cell_type": "code",
   "execution_count": 8,
   "id": "c3590459",
   "metadata": {},
   "outputs": [],
   "source": [
    "from sklearn.preprocessing import LabelEncoder\n",
    "\n",
    "encoder = LabelEncoder()\n",
    "encoder.fit(y)\n",
    "y = encoder.transform(y)\n",
    "n_class_var = len(np.unique(y))\n",
    "y = keras.utils.to_categorical(y)"
   ]
  },
  {
   "cell_type": "code",
   "execution_count": 9,
   "id": "c9e12635",
   "metadata": {},
   "outputs": [],
   "source": [
    "from sklearn.preprocessing import StandardScaler\n",
    "\n",
    "scaler = StandardScaler()\n",
    "\n",
    "X = scaler.fit_transform(X.reshape(-1, X.shape[-1])).reshape(X.shape)"
   ]
  },
  {
   "cell_type": "code",
   "execution_count": 10,
   "id": "e356efd1",
   "metadata": {},
   "outputs": [],
   "source": [
    "split_idx = int(len(y)*0.70)\n",
    "\n",
    "X_train = X[:split_idx]\n",
    "X_test = X[split_idx:]\n",
    "\n",
    "y_train = y[:split_idx]\n",
    "y_test = y[split_idx:]"
   ]
  },
  {
   "cell_type": "code",
   "execution_count": 11,
   "id": "2bda0558",
   "metadata": {},
   "outputs": [],
   "source": [
    "def create_model(optimizer=\"sgd\"):\n",
    "    model = keras.Sequential(\n",
    "        [\n",
    "            keras.layers.LSTM(32, input_shape=(lag,X.shape[-1])),\n",
    "            keras.layers.Dropout(0.2),\n",
    "\n",
    "            keras.layers.Dense(12, activation=\"relu\"),\n",
    "            keras.layers.Dense(n_class_var, activation=\"softmax\")\n",
    "        ]\n",
    "    )\n",
    "    model.compile(loss=\"categorical_crossentropy\", optimizer=optimizer, metrics=['accuracy'])\n",
    "    return model"
   ]
  },
  {
   "cell_type": "code",
   "execution_count": 12,
   "id": "9a977b55",
   "metadata": {},
   "outputs": [
    {
     "name": "stdout",
     "output_type": "stream",
     "text": [
      "Epoch 1/30\n",
      "139/139 [==============================] - 0s 3ms/step - loss: 1.0888 - accuracy: 0.3800\n",
      "Epoch 2/30\n",
      "139/139 [==============================] - 0s 3ms/step - loss: 1.0678 - accuracy: 0.4428\n",
      "Epoch 3/30\n",
      "139/139 [==============================] - 0s 2ms/step - loss: 1.0613 - accuracy: 0.4686\n",
      "Epoch 4/30\n",
      "139/139 [==============================] - 0s 2ms/step - loss: 1.0547 - accuracy: 0.4772\n",
      "Epoch 5/30\n",
      "139/139 [==============================] - 0s 2ms/step - loss: 1.0498 - accuracy: 0.4731\n",
      "Epoch 6/30\n",
      "139/139 [==============================] - 0s 3ms/step - loss: 1.0503 - accuracy: 0.4790\n",
      "Epoch 7/30\n",
      "139/139 [==============================] - 0s 3ms/step - loss: 1.0460 - accuracy: 0.4785\n",
      "Epoch 8/30\n",
      "139/139 [==============================] - 0s 3ms/step - loss: 1.0412 - accuracy: 0.4763\n",
      "Epoch 9/30\n",
      "139/139 [==============================] - 0s 2ms/step - loss: 1.0431 - accuracy: 0.4812\n",
      "Epoch 10/30\n",
      "139/139 [==============================] - 0s 3ms/step - loss: 1.0415 - accuracy: 0.4781\n",
      "Epoch 11/30\n",
      "139/139 [==============================] - 0s 2ms/step - loss: 1.0401 - accuracy: 0.4776\n",
      "Epoch 12/30\n",
      "139/139 [==============================] - 0s 2ms/step - loss: 1.0393 - accuracy: 0.4831\n",
      "Epoch 13/30\n",
      "139/139 [==============================] - 0s 3ms/step - loss: 1.0385 - accuracy: 0.4826\n",
      "Epoch 14/30\n",
      "139/139 [==============================] - 0s 3ms/step - loss: 1.0386 - accuracy: 0.4817\n",
      "Epoch 15/30\n",
      "139/139 [==============================] - 0s 3ms/step - loss: 1.0369 - accuracy: 0.4858\n",
      "Epoch 16/30\n",
      "139/139 [==============================] - 0s 3ms/step - loss: 1.0370 - accuracy: 0.4808\n",
      "Epoch 17/30\n",
      "139/139 [==============================] - 0s 3ms/step - loss: 1.0355 - accuracy: 0.4853: 0s - loss: 1.0410 - accuracy: 0.\n",
      "Epoch 18/30\n",
      "139/139 [==============================] - 0s 2ms/step - loss: 1.0375 - accuracy: 0.4894\n",
      "Epoch 19/30\n",
      "139/139 [==============================] - 0s 2ms/step - loss: 1.0355 - accuracy: 0.4862\n",
      "Epoch 20/30\n",
      "139/139 [==============================] - 0s 2ms/step - loss: 1.0345 - accuracy: 0.4916\n",
      "Epoch 21/30\n",
      "139/139 [==============================] - 0s 2ms/step - loss: 1.0363 - accuracy: 0.4867\n",
      "Epoch 22/30\n",
      "139/139 [==============================] - 0s 2ms/step - loss: 1.0340 - accuracy: 0.4880\n",
      "Epoch 23/30\n",
      "139/139 [==============================] - 0s 2ms/step - loss: 1.0364 - accuracy: 0.4912\n",
      "Epoch 24/30\n",
      "139/139 [==============================] - 0s 2ms/step - loss: 1.0321 - accuracy: 0.4853\n",
      "Epoch 25/30\n",
      "139/139 [==============================] - 0s 2ms/step - loss: 1.0371 - accuracy: 0.4871\n",
      "Epoch 26/30\n",
      "139/139 [==============================] - 0s 3ms/step - loss: 1.0341 - accuracy: 0.4925\n",
      "Epoch 27/30\n",
      "139/139 [==============================] - 0s 2ms/step - loss: 1.0328 - accuracy: 0.4912\n",
      "Epoch 28/30\n",
      "139/139 [==============================] - 0s 3ms/step - loss: 1.0346 - accuracy: 0.4867\n",
      "Epoch 29/30\n",
      "139/139 [==============================] - 0s 2ms/step - loss: 1.0324 - accuracy: 0.4939\n",
      "Epoch 30/30\n",
      "139/139 [==============================] - 0s 2ms/step - loss: 1.0334 - accuracy: 0.4876\n"
     ]
    },
    {
     "data": {
      "image/png": "[encoded data removed]",
      "text/plain": [
       "<Figure size 432x288 with 1 Axes>"
      ]
     },
     "metadata": {
      "needs_background": "light"
     },
     "output_type": "display_data"
    }
   ],
   "source": [
    "model = create_model()\n",
    "history = model.fit(X_train, y_train, epochs=30, batch_size=16, verbose=1)\n",
    "\n",
    "plt.plot(history.history['loss'])\n",
    "plt.title('model loss')\n",
    "plt.ylabel('loss')\n",
    "plt.xlabel('epoch')\n",
    "plt.legend(['train', 'test'], loc='upper left')\n",
    "plt.show()"
   ]
  },
  {
   "cell_type": "code",
   "execution_count": 15,
   "id": "fbcf33ff",
   "metadata": {},
   "outputs": [
    {
     "name": "stdout",
     "output_type": "stream",
     "text": [
      "0.37407797681770283\n",
      "              precision    recall  f1-score   support\n",
      "\n",
      "           0       0.00      0.00      0.00       268\n",
      "           1       0.38      0.41      0.39       336\n",
      "           2       0.37      0.63      0.47       345\n",
      "\n",
      "    accuracy                           0.37       949\n",
      "   macro avg       0.25      0.35      0.29       949\n",
      "weighted avg       0.27      0.37      0.31       949\n",
      "\n"
     ]
    },
    {
     "name": "stderr",
     "output_type": "stream",
     "text": [
      "C:\\Users\\flis1\\Miniconda3\\envs\\tensorflow\\lib\\site-packages\\sklearn\\metrics\\_classification.py:1318: UndefinedMetricWarning: Precision and F-score are ill-defined and being set to 0.0 in labels with no predicted samples. Use `zero_division` parameter to control this behavior.\n",
      "  _warn_prf(average, modifier, msg_start, len(result))\n",
      "C:\\Users\\flis1\\Miniconda3\\envs\\tensorflow\\lib\\site-packages\\sklearn\\metrics\\_classification.py:1318: UndefinedMetricWarning: Precision and F-score are ill-defined and being set to 0.0 in labels with no predicted samples. Use `zero_division` parameter to control this behavior.\n",
      "  _warn_prf(average, modifier, msg_start, len(result))\n",
      "C:\\Users\\flis1\\Miniconda3\\envs\\tensorflow\\lib\\site-packages\\sklearn\\metrics\\_classification.py:1318: UndefinedMetricWarning: Precision and F-score are ill-defined and being set to 0.0 in labels with no predicted samples. Use `zero_division` parameter to control this behavior.\n",
      "  _warn_prf(average, modifier, msg_start, len(result))\n"
     ]
    }
   ],
   "source": [
    "from sklearn.metrics import accuracy_score, classification_report\n",
    "\n",
    "y_pred = np.argmax(model.predict(X_test), axis=1)\n",
    "\n",
    "print(accuracy_score(np.argmax(y_test, axis=1), y_pred))\n",
    "\n",
    "print(classification_report(np.argmax(y_test, axis=1), y_pred))"
   ]
  }
 ],
 "metadata": {
  "hide_input": false,
  "kernelspec": {
   "display_name": "Python 3 (ipykernel)",
   "language": "python",
   "name": "python3"
  },
  "language_info": {
   "codemirror_mode": {
    "name": "ipython",
    "version": 3
   },
   "file_extension": ".py",
   "mimetype": "text/x-python",
   "name": "python",
   "nbconvert_exporter": "python",
   "pygments_lexer": "ipython3",
   "version": "3.7.11"
  }
 },
 "nbformat": 4,
 "nbformat_minor": 5
}
