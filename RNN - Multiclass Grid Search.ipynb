{
 "cells": [
  {
   "cell_type": "markdown",
   "metadata": {},
   "source": [
    "Implementing Grid Search on keras, based on this <a href=\"https://machinelearningmastery.com/grid-search-hyperparameters-deep-learning-models-python-keras/tutorial\"> tutorial</a> "
   ]
  },
  {
   "cell_type": "code",
   "execution_count": 1,
   "metadata": {},
   "outputs": [],
   "source": [
    "import numpy as np\n",
    "import pandas as pd\n",
    "from sklearn.preprocessing import StandardScaler\n",
    "from sklearn.metrics import accuracy_score\n",
    "from sklearn.datasets import load_iris\n",
    "from sklearn.model_selection import GridSearchCV\n",
    "from tensorflow import keras\n",
    "from tensorflow.keras.wrappers.scikit_learn import KerasClassifier"
   ]
  },
  {
   "cell_type": "code",
   "execution_count": 2,
   "metadata": {},
   "outputs": [],
   "source": [
    "iris = load_iris()\n",
    "X = iris[\"data\"]\n",
    "y = iris[\"target\"]"
   ]
  },
  {
   "cell_type": "markdown",
   "metadata": {},
   "source": [
    "The class variable is very imbalanced."
   ]
  },
  {
   "cell_type": "markdown",
   "metadata": {},
   "source": [
    "We split the dataset into train and test. We shuffle the examples as the order is not important here."
   ]
  },
  {
   "cell_type": "code",
   "execution_count": 3,
   "metadata": {},
   "outputs": [],
   "source": [
    "from sklearn.preprocessing import LabelEncoder\n",
    "\n",
    "le = LabelEncoder()\n",
    "y = le.fit_transform(y)\n",
    "\n",
    "n_class_var = len(np.unique(y))\n",
    "\n",
    "y = keras.utils.to_categorical(y, num_classes=n_class_var)"
   ]
  },
  {
   "cell_type": "markdown",
   "metadata": {},
   "source": [
    "We scale with the Standard Scaler. That is the features are normalized. Models usually work better when this is the case."
   ]
  },
  {
   "cell_type": "code",
   "execution_count": 4,
   "metadata": {},
   "outputs": [],
   "source": [
    "scaler = StandardScaler()\n",
    "X = scaler.fit_transform(X)"
   ]
  },
  {
   "cell_type": "markdown",
   "metadata": {},
   "source": [
    "The model's architecture. "
   ]
  },
  {
   "cell_type": "code",
   "execution_count": 19,
   "metadata": {},
   "outputs": [],
   "source": [
    "def create_model(optimizer=\"sgd\"):\n",
    "    model = keras.Sequential(\n",
    "        [\n",
    "            keras.layers.Dense(\n",
    "                8, activation=\"relu\", input_shape=(X.shape[-1],)\n",
    "            ),\n",
    "            keras.layers.Dense(12, activation=\"relu\"),\n",
    "            keras.layers.Dense(8, activation=\"relu\"),\n",
    "            keras.layers.Dense(n_class_var, activation=\"softmax\")\n",
    "        ]\n",
    "    )\n",
    "    model.compile(\n",
    "        optimizer=optimizer,\n",
    "        loss=\"categorical_crossentropy\",\n",
    "        metrics=['accuracy']\n",
    "    )\n",
    "    return model"
   ]
  },
  {
   "cell_type": "code",
   "execution_count": 21,
   "metadata": {},
   "outputs": [
    {
     "name": "stdout",
     "output_type": "stream",
     "text": [
      "Epoch 1/30\n",
      "112/112 [==============================] - 0s 588us/step - loss: 1.0505 - accuracy: 0.5357\n",
      "Epoch 2/30\n",
      "112/112 [==============================] - 0s 719us/step - loss: 0.9243 - accuracy: 0.6696\n",
      "Epoch 3/30\n",
      "112/112 [==============================] - 0s 570us/step - loss: 0.6974 - accuracy: 0.6964\n",
      "Epoch 4/30\n",
      "112/112 [==============================] - 0s 579us/step - loss: 0.5559 - accuracy: 0.6786\n",
      "Epoch 5/30\n",
      "112/112 [==============================] - 0s 597us/step - loss: 0.4800 - accuracy: 0.6964\n",
      "Epoch 6/30\n",
      "112/112 [==============================] - 0s 583us/step - loss: 0.4333 - accuracy: 0.7054\n",
      "Epoch 7/30\n",
      "112/112 [==============================] - 0s 752us/step - loss: 0.3952 - accuracy: 0.8036\n",
      "Epoch 8/30\n",
      "112/112 [==============================] - 0s 781us/step - loss: 0.3618 - accuracy: 0.8482\n",
      "Epoch 9/30\n",
      "112/112 [==============================] - 0s 556us/step - loss: 0.3293 - accuracy: 0.8839\n",
      "Epoch 10/30\n",
      "112/112 [==============================] - 0s 490us/step - loss: 0.3020 - accuracy: 0.8929\n",
      "Epoch 11/30\n",
      "112/112 [==============================] - 0s 525us/step - loss: 0.2758 - accuracy: 0.9107\n",
      "Epoch 12/30\n",
      "112/112 [==============================] - 0s 555us/step - loss: 0.2518 - accuracy: 0.9464\n",
      "Epoch 13/30\n",
      "112/112 [==============================] - 0s 587us/step - loss: 0.2280 - accuracy: 0.9196\n",
      "Epoch 14/30\n",
      "112/112 [==============================] - 0s 571us/step - loss: 0.2152 - accuracy: 0.9643\n",
      "Epoch 15/30\n",
      "112/112 [==============================] - 0s 552us/step - loss: 0.2001 - accuracy: 0.9554\n",
      "Epoch 16/30\n",
      "112/112 [==============================] - 0s 542us/step - loss: 0.1819 - accuracy: 0.9643\n",
      "Epoch 17/30\n",
      "112/112 [==============================] - 0s 676us/step - loss: 0.1713 - accuracy: 0.9554\n",
      "Epoch 18/30\n",
      "112/112 [==============================] - 0s 531us/step - loss: 0.1609 - accuracy: 0.9643\n",
      "Epoch 19/30\n",
      "112/112 [==============================] - 0s 539us/step - loss: 0.1502 - accuracy: 0.9554\n",
      "Epoch 20/30\n",
      "112/112 [==============================] - 0s 534us/step - loss: 0.1397 - accuracy: 0.9732\n",
      "Epoch 21/30\n",
      "112/112 [==============================] - 0s 543us/step - loss: 0.1341 - accuracy: 0.9643\n",
      "Epoch 22/30\n",
      "112/112 [==============================] - 0s 534us/step - loss: 0.1227 - accuracy: 0.9732\n",
      "Epoch 23/30\n",
      "112/112 [==============================] - 0s 726us/step - loss: 0.1174 - accuracy: 0.9732\n",
      "Epoch 24/30\n",
      "112/112 [==============================] - 0s 546us/step - loss: 0.1093 - accuracy: 0.9821\n",
      "Epoch 25/30\n",
      "112/112 [==============================] - 0s 498us/step - loss: 0.1094 - accuracy: 0.9732\n",
      "Epoch 26/30\n",
      "112/112 [==============================] - 0s 563us/step - loss: 0.1042 - accuracy: 0.9732\n",
      "Epoch 27/30\n",
      "112/112 [==============================] - 0s 556us/step - loss: 0.0991 - accuracy: 0.9732\n",
      "Epoch 28/30\n",
      "112/112 [==============================] - 0s 587us/step - loss: 0.0992 - accuracy: 0.9732\n",
      "Epoch 29/30\n",
      "112/112 [==============================] - 0s 626us/step - loss: 0.0942 - accuracy: 0.9643\n",
      "Epoch 30/30\n",
      "112/112 [==============================] - 0s 529us/step - loss: 0.0925 - accuracy: 0.9732\n"
     ]
    },
    {
     "data": {
      "text/plain": [
       "array([2, 2, 1, 1, 1, 2, 1, 1, 1, 0, 0, 2, 1, 2, 2, 0, 0, 0, 1, 2, 0, 0,\n",
       "       1, 2, 2, 2, 1, 0, 2, 2, 0, 2, 2, 1, 1, 0, 0, 1], dtype=int64)"
      ]
     },
     "execution_count": 21,
     "metadata": {},
     "output_type": "execute_result"
    }
   ],
   "source": [
    "from sklearn.model_selection import train_test_split\n",
    "\n",
    "X_train, X_test, y_train, y_test = train_test_split(X, y)\n",
    "\n",
    "model = create_model()\n",
    "model.fit(X_train, y_train, batch_size=1, epochs=30)\n"
   ]
  },
  {
   "cell_type": "code",
   "execution_count": 25,
   "metadata": {},
   "outputs": [
    {
     "data": {
      "text/plain": [
       "0.9736842105263158"
      ]
     },
     "execution_count": 25,
     "metadata": {},
     "output_type": "execute_result"
    }
   ],
   "source": [
    "from sklearn.metrics import accuracy_score\n",
    "\n",
    "accuracy_score(np.argmax(y_test, axis=1), np.argmax(model.predict(X_test), axis=1))"
   ]
  },
  {
   "cell_type": "code",
   "execution_count": 26,
   "metadata": {},
   "outputs": [
    {
     "name": "stdout",
     "output_type": "stream",
     "text": [
      "Fitting 2 folds for each of 6 candidates, totalling 12 fits\n",
      "[CV 1/2] END ...........batch_size=1, epochs=10;, score=0.240 total time=   0.9s\n",
      "[CV 2/2] END ...........batch_size=1, epochs=10;, score=0.333 total time=   2.2s\n",
      "[CV 1/2] END ...........batch_size=1, epochs=20;, score=0.293 total time=   1.1s\n",
      "[CV 2/2] END ...........batch_size=1, epochs=20;, score=0.333 total time=   1.1s\n",
      "[CV 1/2] END ...........batch_size=4, epochs=10;, score=0.000 total time=   0.5s\n",
      "[CV 2/2] END ...........batch_size=4, epochs=10;, score=0.333 total time=   0.8s\n",
      "[CV 1/2] END ...........batch_size=4, epochs=20;, score=0.227 total time=   0.6s\n",
      "[CV 2/2] END ...........batch_size=4, epochs=20;, score=0.333 total time=   0.5s\n",
      "[CV 1/2] END ...........batch_size=8, epochs=10;, score=0.000 total time=   0.5s\n",
      "[CV 2/2] END ...........batch_size=8, epochs=10;, score=0.000 total time=   0.6s\n",
      "[CV 1/2] END ...........batch_size=8, epochs=20;, score=0.107 total time=   0.5s\n",
      "[CV 2/2] END ...........batch_size=8, epochs=20;, score=0.307 total time=   0.5s\n",
      "Best: 0.313333 using {'batch_size': 1, 'epochs': 20}\n",
      "0.286667 (0.046667) with: {'batch_size': 1, 'epochs': 10}\n",
      "0.313333 (0.020000) with: {'batch_size': 1, 'epochs': 20}\n",
      "0.166667 (0.166667) with: {'batch_size': 4, 'epochs': 10}\n",
      "0.280000 (0.053333) with: {'batch_size': 4, 'epochs': 20}\n",
      "0.000000 (0.000000) with: {'batch_size': 8, 'epochs': 10}\n",
      "0.206667 (0.100000) with: {'batch_size': 8, 'epochs': 20}\n"
     ]
    }
   ],
   "source": [
    "model = KerasClassifier(build_fn=create_model, verbose=0)\n",
    "# define the grid search parameters\n",
    "batch_size = [1, 4, 8]\n",
    "epochs = [10, 20]\n",
    "param_grid = dict(batch_size=batch_size, epochs=epochs)\n",
    "grid = GridSearchCV(estimator=model, param_grid=param_grid, cv=2,verbose=3)\n",
    "grid_result = grid.fit(X, y)\n",
    "# summarize results\n",
    "print(\"Best: %f using %s\" % (grid_result.best_score_, grid_result.best_params_))\n",
    "means = grid_result.cv_results_['mean_test_score']\n",
    "stds = grid_result.cv_results_['std_test_score']\n",
    "params = grid_result.cv_results_['params']\n",
    "for mean, stdev, param in zip(means, stds, params):\n",
    "    print(\"%f (%f) with: %r\" % (mean, stdev, param))"
   ]
  },
  {
   "cell_type": "code",
   "execution_count": 12,
   "metadata": {},
   "outputs": [
    {
     "data": {
      "text/plain": [
       "array([0], dtype=int64)"
      ]
     },
     "execution_count": 12,
     "metadata": {},
     "output_type": "execute_result"
    }
   ],
   "source": [
    "np.argmax(grid.best_estimator_.predict_proba(X[0:1]), axis=1)"
   ]
  },
  {
   "cell_type": "code",
   "execution_count": 14,
   "metadata": {},
   "outputs": [
    {
     "data": {
      "text/plain": [
       "{'mean_fit_time': array([0.82676244, 0.98529136, 0.60112453, 0.70766068, 0.4607178 ,\n",
       "        0.60006571]),\n",
       " 'std_fit_time': array([0.10468245, 0.01727211, 0.00650096, 0.05540848, 0.01619232,\n",
       "        0.03235412]),\n",
       " 'mean_score_time': array([0.15625989, 0.2225064 , 0.1501168 , 0.16512036, 0.14004064,\n",
       "        0.14517999]),\n",
       " 'std_score_time': array([0.01661217, 0.08392417, 0.01148713, 0.00155902, 0.01237082,\n",
       "        0.01446056]),\n",
       " 'param_batch_size': masked_array(data=[1, 1, 4, 4, 8, 8],\n",
       "              mask=[False, False, False, False, False, False],\n",
       "        fill_value='?',\n",
       "             dtype=object),\n",
       " 'param_epochs': masked_array(data=[10, 20, 10, 20, 10, 20],\n",
       "              mask=[False, False, False, False, False, False],\n",
       "        fill_value='?',\n",
       "             dtype=object),\n",
       " 'params': [{'batch_size': 1, 'epochs': 10},\n",
       "  {'batch_size': 1, 'epochs': 20},\n",
       "  {'batch_size': 4, 'epochs': 10},\n",
       "  {'batch_size': 4, 'epochs': 20},\n",
       "  {'batch_size': 8, 'epochs': 10},\n",
       "  {'batch_size': 8, 'epochs': 20}],\n",
       " 'split0_test_score': array([0.13333334, 0.29333332, 0.17333333, 0.17333333, 0.        ,\n",
       "        0.10666667]),\n",
       " 'split1_test_score': array([0.33333334, 0.33333334, 0.25333333, 0.33333334, 0.33333334,\n",
       "        0.31999999]),\n",
       " 'mean_test_score': array([0.23333334, 0.31333333, 0.21333333, 0.25333334, 0.16666667,\n",
       "        0.21333333]),\n",
       " 'std_test_score': array([0.1       , 0.02000001, 0.04      , 0.08000001, 0.16666667,\n",
       "        0.10666666]),\n",
       " 'rank_test_score': array([3, 1, 4, 2, 6, 4])}"
      ]
     },
     "execution_count": 14,
     "metadata": {},
     "output_type": "execute_result"
    }
   ],
   "source": [
    "grid.cv_results_"
   ]
  }
 ],
 "metadata": {
  "hide_input": false,
  "kernelspec": {
   "display_name": "Python 3 (ipykernel)",
   "language": "python",
   "name": "python3"
  },
  "language_info": {
   "codemirror_mode": {
    "name": "ipython",
    "version": 3
   },
   "file_extension": ".py",
   "mimetype": "text/x-python",
   "name": "python",
   "nbconvert_exporter": "python",
   "pygments_lexer": "ipython3",
   "version": "3.7.11"
  }
 },
 "nbformat": 4,
 "nbformat_minor": 4
}
